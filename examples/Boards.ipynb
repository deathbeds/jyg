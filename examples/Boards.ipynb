{
 "cells": [
  {
   "cell_type": "markdown",
   "id": "40b283d8-8f7a-41c3-831f-190f9ac139c0",
   "metadata": {},
   "source": [
    "# Command Boards"
   ]
  },
  {
   "cell_type": "markdown",
   "id": "07c6f103-5b4e-43b8-a84b-96d7ea7c1145",
   "metadata": {},
   "source": [
    "A `jyg` _Command Board_ is an HTML file that gets loaded in a separate window scope (either `<iframe>`, or \n",
    "new browser tab that can run commands in the Jupyter Client that built it. "
   ]
  },
  {
   "cell_type": "markdown",
   "id": "0b1021db-3139-4abe-b908-fa108658d763",
   "metadata": {},
   "source": [
    "### Launching a Command Board\n",
    "\n",
    "> the demo ships a few examples\n",
    "\n",
    "- open a new _Launcher_ <kbd>ctrl + shift + L</kbd>\n",
    "- click on a _Command Board_ card"
   ]
  },
  {
   "cell_type": "markdown",
   "id": "98635ae0-8c49-4d5c-8fad-040cd7e68c5d",
   "metadata": {},
   "source": [
    "### Creating a Command Board\n",
    "\n",
    "- open _Advanced Settings Editor_ <kbd>ctrl + ,</kbd>\n",
    "- open the _Command Boards_ Settings\n",
    "- provide at least a _title_ and _template_"
   ]
  }
 ],
 "metadata": {
  "kernelspec": {
   "display_name": "Python 3 (ipykernel)",
   "language": "python",
   "name": "python3"
  },
  "language_info": {
   "codemirror_mode": {
    "name": "ipython",
    "version": 3
   },
   "file_extension": ".py",
   "mimetype": "text/x-python",
   "name": "python",
   "nbconvert_exporter": "python",
   "pygments_lexer": "ipython3",
   "version": "3.11.0"
  }
 },
 "nbformat": 4,
 "nbformat_minor": 5
}
